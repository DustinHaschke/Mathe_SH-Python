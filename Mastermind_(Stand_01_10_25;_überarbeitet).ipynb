{
  "nbformat": 4,
  "nbformat_minor": 0,
  "metadata": {
    "colab": {
      "provenance": [],
      "collapsed_sections": [
        "dLdkGQRad2Ak",
        "L5WDuh5fjiCs",
        "IosoYs5djryA",
        "FUnBpWL7jzHo",
        "vLPDboIhqf0E"
      ],
      "authorship_tag": "ABX9TyPshR26WxG8v9aD2sH2dCua",
      "include_colab_link": true
    },
    "kernelspec": {
      "name": "python3",
      "display_name": "Python 3"
    },
    "language_info": {
      "name": "python"
    }
  },
  "cells": [
    {
      "cell_type": "markdown",
      "metadata": {
        "id": "view-in-github",
        "colab_type": "text"
      },
      "source": [
        "<a href=\"https://colab.research.google.com/github/DustinHaschke/Mathe_SH-Python/blob/main/Mastermind_(Stand_01_10_25%3B_%C3%BCberarbeitet).ipynb\" target=\"_parent\"><img src=\"https://colab.research.google.com/assets/colab-badge.svg\" alt=\"Open In Colab\"/></a>"
      ]
    },
    {
      "cell_type": "markdown",
      "source": [
        "# Mastermind 🧠🎲\n",
        "Programmiere das Spiel Mastermind\n",
        "\n",
        "siehe auch: https://de.wikipedia.org/wiki/Mastermind_(Spiel)\n",
        "\n",
        "<img src=\"https://upload.wikimedia.org/wikipedia/commons/3/38/Game_Mastermind.gif\" width=\"400\">\n",
        "\n",
        "---\n",
        "\n",
        "\n",
        "\n",
        "\n",
        "\n",
        "\n",
        "\n",
        "\n",
        "\n",
        "Lege dafür zwei Funktionen an:\n",
        "\n",
        "*   **generiere_loesung:**\n",
        "    die Funktion soll die 8 Kugeln zufällig anordnen\n",
        "\n",
        "    *Tipp: Das random-package besitzt eine Funktion dafür.*   \n",
        "\n",
        "\n",
        "\n",
        "\n",
        "*   **check:**\n",
        "Die Funktion soll zurückgeben, wie viele Kugeln *farblich* bzw. *räumlich* korrekt liegen. Zudem soll überprüft werden, ob gewonnen wurde oder auch wenn die Anzahl der Kugeln vorgeschlagenen Lösung nicht zu der Musterlösung passt.\n",
        "\n",
        "    *Tipp: Bei Mastermind zählt jede Kugel nur EINMAL entweder zur Kategorie farblich-vorhanden oder farblich-örtlich-richtig dazu.*   \n",
        "\n",
        "Benutze final die *`input()`-Funktion* und Funktionsaufrufe für die *beiden angelegten Funktionen* für ein lauffähiges Spiel."
      ],
      "metadata": {
        "id": "fB2iUMBYmHwE"
      }
    },
    {
      "cell_type": "markdown",
      "source": [
        "## unsere Lösungen für **Funktion 1** 🎲🤫\n"
      ],
      "metadata": {
        "id": "ox_KMPNcdOHc"
      }
    },
    {
      "cell_type": "code",
      "source": [
        "from random import shuffle\n",
        "\n",
        "pins = [0,1,2,3,4,5,6,7]\n",
        "zahlen = [0,1,2,3,4,5,6,7,0,1,2,3,4,5,6,7,0,1,2,3,4,5,6,7,0,1,2,3,4,5,6,7]\n",
        "\n",
        "def generiere_loesung():\n",
        "  random.shuffle(zahlen)\n",
        "  print(zahlen[0:4])\n",
        "\n",
        "  for i in range(len(zahlen)-4):\n",
        "    del zahlen[0]\n",
        "  print(zahlen)\n",
        "\n",
        "def generiere_loesung():\n",
        "    code = []\n",
        "    for i in range(4):\n",
        "        shuffle(pins)\n",
        "        code.append(pins[0])\n",
        "    return code\n",
        "\n",
        "generiere_loesung()"
      ],
      "metadata": {
        "colab": {
          "base_uri": "https://localhost:8080/"
        },
        "id": "3moV9_eAynsM",
        "outputId": "fa424ad5-a132-4ecf-d033-3c2f964aced6"
      },
      "execution_count": null,
      "outputs": [
        {
          "output_type": "execute_result",
          "data": {
            "text/plain": [
              "[5, 7, 3, 3]"
            ]
          },
          "metadata": {},
          "execution_count": 1
        }
      ]
    },
    {
      "cell_type": "markdown",
      "source": [
        "##unsere Lösungen für **Funktion 2** ☑️✅"
      ],
      "metadata": {
        "id": "doNLt5ZUdv_r"
      }
    },
    {
      "cell_type": "code",
      "source": [
        "# hier könnte deine Lösung stehen :-)\n",
        "\n"
      ],
      "metadata": {
        "id": "vkCci5vg1dYW"
      },
      "execution_count": null,
      "outputs": []
    },
    {
      "cell_type": "markdown",
      "source": [
        "## Das Spiel 🎮🎲😎"
      ],
      "metadata": {
        "id": "yIvHuh-7gQBP"
      }
    },
    {
      "cell_type": "code",
      "source": [
        "# Falls es dir hilft, kopiere gerne die beiden Funktionen hier hinein (-:\n",
        "# hier könnte dein Code stehen :-)\n",
        "\n"
      ],
      "metadata": {
        "id": "nSTi2X-LhpDY"
      },
      "execution_count": null,
      "outputs": []
    },
    {
      "cell_type": "markdown",
      "source": [
        "# Zusatzaufgabe 🍭🍬🌈\n",
        "\n",
        "Programmiere nun noch zusatzlich die Abbruchbedingung, dass es maximal 12 Versuche gibt. Passe nach jedem fehlerhaften Versuch einen sichtbaren Zähler für Versuche an. Messe zudem die Zeit, die ein Spieler braucht und gebe diese bei erfolgreichem Spielende aus.\n",
        "\n",
        "Jetzt soll unser Spiel noch etwas schöner werden. Benutze & kombiniere Farben + Formen aus dem Extra-Codeblock anstelle einer Zahlenausgabe.\n",
        "Gebe zudem oben eine Übersetzungstafel für den Spieler an, die die Farben den Kugeln zuordnet.\n",
        "\n",
        "Implementiere schlussendlich noch eine Möglichkeit farb+formtechnisch sowie in den Funktionen um das Spiel mit mehr als vier Farben zu spielen"
      ],
      "metadata": {
        "id": "xwX2GP3Ok80K"
      }
    },
    {
      "cell_type": "code",
      "source": [
        "# Extracodeblock\n",
        "print(\"Formliste: ● ○ ◉ ⬤\")\n",
        "print(\"Farbliste: \\033[95m lila \\033[94m blau \\033[92m grün \\033[93m gelb \\033[38;5;208m orange \\033[91m rot \\033[97m weiß \\033[90m grau \\033[30m schwarz \\033[0m Standardfarbe/Reset \")"
      ],
      "metadata": {
        "colab": {
          "base_uri": "https://localhost:8080/"
        },
        "id": "eaeKZlddmQaF",
        "outputId": "3b601a45-4fcf-4cae-a2bd-d6719ff4d1db"
      },
      "execution_count": null,
      "outputs": [
        {
          "output_type": "stream",
          "name": "stdout",
          "text": [
            "Formliste: ● ○ ◉ ⬤\n",
            "Farbliste: \u001b[95m lila \u001b[94m blau \u001b[92m grün \u001b[93m gelb \u001b[38;5;208m orange \u001b[91m rot \u001b[97m weiß \u001b[90m grau \u001b[30m schwarz \u001b[0m Standardfarbe/Reset \n"
          ]
        }
      ]
    },
    {
      "cell_type": "code",
      "source": [
        "### Hier könnte ihr Code stehen =)\n",
        "\n"
      ],
      "metadata": {
        "id": "qV0ubfQ_onje"
      },
      "execution_count": null,
      "outputs": []
    },
    {
      "cell_type": "markdown",
      "source": [
        "## Hilfestellungen / Recap *❓*"
      ],
      "metadata": {
        "id": "dLdkGQRad2Ak"
      }
    },
    {
      "cell_type": "code",
      "execution_count": null,
      "metadata": {
        "colab": {
          "base_uri": "https://localhost:8080/"
        },
        "id": "NaJHNCAWmE-Z",
        "outputId": "6aadbbd8-feee-4c92-d1b3-853dc6e82082"
      },
      "outputs": [
        {
          "output_type": "stream",
          "name": "stdout",
          "text": [
            "Liste kann auch Fießkommazahlenausgeben: 0.123\n",
            "alte Liste: [0.123, '0', 1, 2, 3, 4, 5, 6, 7, True, 0.123]\n",
            "ge-shuffle-te liste: [1, 0.123, 6, 2, 4, 7, '0', 0.123, True, 3, 5]\n",
            "aus Liste löschen: ['b']\n",
            "Nutzereingabe (Zahl): 1\n",
            "Eingabe war: 1 und ist immer vom Typ String: <class 'str'>\n",
            "Können wir aber über int() oder float() zu einer Zahl machen: <class 'int'>\n",
            "bzw. über str() Zahlen zu strings\n",
            "Liste in String konvertiert: 0000111122227777\n",
            "in-Operator:  True\n"
          ]
        }
      ],
      "source": [
        "import random\n",
        "\n",
        "# Datentypen in Listen\n",
        "liste = [0.123,\"0\",1,2,3,4,5,6,7,True, 0.123]\n",
        "print(\"Liste kann auch Fießkommazahlenausgeben:\", liste[0])\n",
        "\n",
        "# Shuffle-Funktion\n",
        "print(\"alte Liste:\", liste)\n",
        "random.shuffle(liste)   # gemischte Liste wird in gleicher Variable gespeichert!\n",
        "print(\"ge-shuffle-te liste:\", liste)\n",
        "\n",
        "# Listen-Element löschen\n",
        "art = [\"a\",\"b\",\"c\"]\n",
        "art.remove(\"c\")\n",
        "del art[0]\n",
        "print(\"aus Liste löschen:\", art)\n",
        "# siehe auch: https://www.w3schools.com/python/module_random.asp\n",
        "\n",
        "#Input-Funktion\n",
        "a = input(\"Nutzereingabe (Zahl): \")\n",
        "print(\"Eingabe war:\", a, \"und ist immer vom Typ String:\", type(a))\n",
        "a = int(a)\n",
        "print(\"Können wir aber über int() oder float() zu einer Zahl machen:\", type(a))\n",
        "print(\"bzw. über str() Zahlen zu strings\")\n",
        "\n",
        "# Liste zu String konvertieren\n",
        "liste = [0,0,0,0,1,1,1,1,2,2,2,2,7777]\n",
        "string = \"\"\n",
        "for element in liste:\n",
        "    string += str(element)\n",
        "print(\"Liste in String konvertiert:\", string)\n",
        "\n",
        "#in operator für input()\n",
        "a = \"0123\"\n",
        "print(\"in-Operator: \", int(a[2]) == 2)"
      ]
    },
    {
      "cell_type": "code",
      "source": [
        "# hier könnte dein Code stehen :-)\n",
        "\n"
      ],
      "metadata": {
        "id": "_XAzrLVBdzhx"
      },
      "execution_count": null,
      "outputs": []
    },
    {
      "cell_type": "markdown",
      "source": [
        "# vollständiges Spiel + Musterlösungen"
      ],
      "metadata": {
        "id": "nfj1G3BQqD0Z"
      }
    },
    {
      "cell_type": "markdown",
      "source": [
        "#### Musterlösung Teil 1 (loesung):"
      ],
      "metadata": {
        "id": "L5WDuh5fjiCs"
      }
    },
    {
      "cell_type": "code",
      "source": [
        "import random\n",
        "\n",
        "farbliste = [0,1,2,3,4,5,6,7]\n",
        "\n",
        "def generiere_loesung(laenge, farbliste):\n",
        "    return [random.choice(farbliste) for i in range(laenge)]\n",
        "    ''' leichtere Alternative für die Zeile hierüber:\n",
        "    auswahl= []\n",
        "    for i in range(laenge):\n",
        "        farbe= random.choice(farbliste)\n",
        "        auswahl.append(farbe)\n",
        "    return auswahl\n",
        "    '''\n",
        "\n",
        "generiere_loesung(4, farbliste)"
      ],
      "metadata": {
        "colab": {
          "base_uri": "https://localhost:8080/"
        },
        "id": "x53k1STdjkQy",
        "outputId": "f85b16cd-018a-493b-ee15-58fc54c2dd30"
      },
      "execution_count": null,
      "outputs": [
        {
          "output_type": "execute_result",
          "data": {
            "text/plain": [
              "[6, 1, 6, 2]"
            ]
          },
          "metadata": {},
          "execution_count": 2
        }
      ]
    },
    {
      "cell_type": "markdown",
      "source": [
        "#### Musterlösung Teil 2 (check):"
      ],
      "metadata": {
        "id": "IosoYs5djryA"
      }
    },
    {
      "cell_type": "code",
      "source": [
        "import math\n",
        "farbliste = [0,1,2,3,4,5,6,7]\n",
        "\n",
        "def check(loesung, eingabe):\n",
        "    # ungleiche Länge ist 'Error'\n",
        "    if len(loesung) != len(eingabe):\n",
        "        return(\"Error\",\"Error\")\n",
        "    else:\n",
        "        farbe_enthalten, richtig = 0, 0\n",
        "\n",
        "    # für mögliche Kugel\n",
        "    for zahl in farbliste:\n",
        "        # falls sie in beiden enthalten ist\n",
        "        if zahl in loesung and zahl in eingabe:\n",
        "            # erhöhe 'enthalten' um das Minumum beider Anzahlen (in Lsg und Eingabe)\n",
        "            farbe_enthalten += min(loesung.count(zahl), eingabe.count(zahl))\n",
        "\n",
        "    # für jede Zahl der Eingabe\n",
        "    for i in range(len(eingabe)):\n",
        "        # falls Position und Farbe übereinstimmen, erhöhe 'richtig' um 1\n",
        "        if int(eingabe[i]) == int(loesung[i]):\n",
        "            # erhöhe 'richtig' und dekrementiere 'enthalten'\n",
        "            richtig += 1\n",
        "            farbe_enthalten -= 1\n",
        "\n",
        "    # alle richtig: gewonnen\n",
        "    if richtig == len(eingabe):\n",
        "        return(\"Sieg\", \"Sieg\")\n",
        "    else:\n",
        "        return (farbe_enthalten, richtig)\n",
        "\n",
        "\n",
        "\n",
        "\n",
        "print(\"Bsp für 2 enthalten, 1 richtig:\")\n",
        "farbe_enthalten, richtig = check([4,4,1,2], [1,4,4,4])\n",
        "print(\"Es sind so viele farblich enthalten:\", farbe_enthalten, end=\"\")\n",
        "print(\" So viele sind farblich und positionell richtig:\", richtig)\n",
        "\n",
        "print(\"Bsp für 1 enthalten, 0 richtig:\")\n",
        "farbe_enthalten, richtig = check([4,0,0,0], [0,2,2,2])\n",
        "print(\"Es sind so viele farblich enthalten:\", farbe_enthalten, end=\"\")\n",
        "print(\" So viele sind farblich und positionell richtig:\", richtig)\n",
        "\n",
        "print(\"Bsp. für 0 enthalten und 3 richtig:\")\n",
        "farbe_enthalten, richtig = check([1,6,4,2], [1,6,4,4])\n",
        "print(\"Es sind so viele farblich enthalten:\", farbe_enthalten, end=\"\")\n",
        "print(\" So viele sind farblich und positionell richtig:\", richtig)"
      ],
      "metadata": {
        "colab": {
          "base_uri": "https://localhost:8080/"
        },
        "id": "jvW1zJvljtg9",
        "outputId": "d8bda58e-6c42-4ab9-845d-6d3d4681be3b"
      },
      "execution_count": null,
      "outputs": [
        {
          "output_type": "stream",
          "name": "stdout",
          "text": [
            "Bsp für 2 enthalten, 1 richtig:\n",
            "Es sind so viele farblich enthalten: 2 So viele sind farblich und positionell richtig: 1\n",
            "Bsp für 1 enthalten, 0 richtig:\n",
            "Es sind so viele farblich enthalten: 1 So viele sind farblich und positionell richtig: 0\n",
            "Bsp. für 0 enthalten und 3 richtig:\n",
            "Es sind so viele farblich enthalten: 0 So viele sind farblich und positionell richtig: 3\n"
          ]
        }
      ]
    },
    {
      "cell_type": "markdown",
      "source": [
        "#### Musterlösung MiniSpiel:"
      ],
      "metadata": {
        "id": "FUnBpWL7jzHo"
      }
    },
    {
      "cell_type": "code",
      "source": [
        "# Lösung generieren und Abbruchbedingung\n",
        "loesung = generiere_loesung(4, farbliste)\n",
        "nicht_gewonnen = True\n",
        "\n",
        "#cheat:\n",
        "print(\"~CHEAT~\", loesung)\n",
        "\n",
        "while nicht_gewonnen:\n",
        "    eingabe_pur = input(\"Lösungsvorschlag: \")\n",
        "\n",
        "    #input in Liste von Integers wandeln\n",
        "    eingabe = []\n",
        "    for zeichen in eingabe_pur:\n",
        "        eingabe.append(int(zeichen))\n",
        "\n",
        "    #Ausführen von Check\n",
        "    farbe_enthalten, richtig = check(loesung, eingabe)\n",
        "\n",
        "    #Auswerten von Check\n",
        "    if farbe_enthalten == \"Error\":\n",
        "        print(\"Deine Eingabe war ungültig.\")\n",
        "    elif farbe_enthalten == \"Sieg\":\n",
        "        nicht_gewonnen = False\n",
        "    else:\n",
        "        print(\"enthalten:\", farbe_enthalten, \"   richtig:\", richtig)\n",
        "\n",
        "\n",
        "print(eingabe)\n",
        "\n",
        "\n",
        "print(\"Du hast gewonnen!\")\n",
        "\n"
      ],
      "metadata": {
        "colab": {
          "base_uri": "https://localhost:8080/",
          "height": 443
        },
        "id": "5yYdnrA9j0kd",
        "outputId": "5b83713a-df40-4a74-bb5c-4633b75d1e62"
      },
      "execution_count": null,
      "outputs": [
        {
          "output_type": "stream",
          "name": "stdout",
          "text": [
            "~CHEAT~ [7, 1, 6, 1]\n",
            "Lösungsvorschlag: 7777\n",
            "enthalten: 0    richtig: 1\n",
            "Lösungsvorschlag: 7111\n",
            "enthalten: 0    richtig: 3\n"
          ]
        },
        {
          "output_type": "error",
          "ename": "KeyboardInterrupt",
          "evalue": "Interrupted by user",
          "traceback": [
            "\u001b[0;31m---------------------------------------------------------------------------\u001b[0m",
            "\u001b[0;31mKeyboardInterrupt\u001b[0m                         Traceback (most recent call last)",
            "\u001b[0;32m/tmp/ipython-input-1994134351.py\u001b[0m in \u001b[0;36m<cell line: 0>\u001b[0;34m()\u001b[0m\n\u001b[1;32m      7\u001b[0m \u001b[0;34m\u001b[0m\u001b[0m\n\u001b[1;32m      8\u001b[0m \u001b[0;32mwhile\u001b[0m \u001b[0mnicht_gewonnen\u001b[0m\u001b[0;34m:\u001b[0m\u001b[0;34m\u001b[0m\u001b[0;34m\u001b[0m\u001b[0m\n\u001b[0;32m----> 9\u001b[0;31m     \u001b[0meingabe_pur\u001b[0m \u001b[0;34m=\u001b[0m \u001b[0minput\u001b[0m\u001b[0;34m(\u001b[0m\u001b[0;34m\"Lösungsvorschlag: \"\u001b[0m\u001b[0;34m)\u001b[0m\u001b[0;34m\u001b[0m\u001b[0;34m\u001b[0m\u001b[0m\n\u001b[0m\u001b[1;32m     10\u001b[0m \u001b[0;34m\u001b[0m\u001b[0m\n\u001b[1;32m     11\u001b[0m     \u001b[0;31m#input in Liste von Integers wandeln\u001b[0m\u001b[0;34m\u001b[0m\u001b[0;34m\u001b[0m\u001b[0m\n",
            "\u001b[0;32m/usr/local/lib/python3.12/dist-packages/ipykernel/kernelbase.py\u001b[0m in \u001b[0;36mraw_input\u001b[0;34m(self, prompt)\u001b[0m\n\u001b[1;32m   1175\u001b[0m                 \u001b[0;34m\"raw_input was called, but this frontend does not support input requests.\"\u001b[0m\u001b[0;34m\u001b[0m\u001b[0;34m\u001b[0m\u001b[0m\n\u001b[1;32m   1176\u001b[0m             )\n\u001b[0;32m-> 1177\u001b[0;31m         return self._input_request(\n\u001b[0m\u001b[1;32m   1178\u001b[0m             \u001b[0mstr\u001b[0m\u001b[0;34m(\u001b[0m\u001b[0mprompt\u001b[0m\u001b[0;34m)\u001b[0m\u001b[0;34m,\u001b[0m\u001b[0;34m\u001b[0m\u001b[0;34m\u001b[0m\u001b[0m\n\u001b[1;32m   1179\u001b[0m             \u001b[0mself\u001b[0m\u001b[0;34m.\u001b[0m\u001b[0m_parent_ident\u001b[0m\u001b[0;34m[\u001b[0m\u001b[0;34m\"shell\"\u001b[0m\u001b[0;34m]\u001b[0m\u001b[0;34m,\u001b[0m\u001b[0;34m\u001b[0m\u001b[0;34m\u001b[0m\u001b[0m\n",
            "\u001b[0;32m/usr/local/lib/python3.12/dist-packages/ipykernel/kernelbase.py\u001b[0m in \u001b[0;36m_input_request\u001b[0;34m(self, prompt, ident, parent, password)\u001b[0m\n\u001b[1;32m   1217\u001b[0m             \u001b[0;32mexcept\u001b[0m \u001b[0mKeyboardInterrupt\u001b[0m\u001b[0;34m:\u001b[0m\u001b[0;34m\u001b[0m\u001b[0;34m\u001b[0m\u001b[0m\n\u001b[1;32m   1218\u001b[0m                 \u001b[0;31m# re-raise KeyboardInterrupt, to truncate traceback\u001b[0m\u001b[0;34m\u001b[0m\u001b[0;34m\u001b[0m\u001b[0m\n\u001b[0;32m-> 1219\u001b[0;31m                 \u001b[0;32mraise\u001b[0m \u001b[0mKeyboardInterrupt\u001b[0m\u001b[0;34m(\u001b[0m\u001b[0;34m\"Interrupted by user\"\u001b[0m\u001b[0;34m)\u001b[0m \u001b[0;32mfrom\u001b[0m \u001b[0;32mNone\u001b[0m\u001b[0;34m\u001b[0m\u001b[0;34m\u001b[0m\u001b[0m\n\u001b[0m\u001b[1;32m   1220\u001b[0m             \u001b[0;32mexcept\u001b[0m \u001b[0mException\u001b[0m\u001b[0;34m:\u001b[0m\u001b[0;34m\u001b[0m\u001b[0;34m\u001b[0m\u001b[0m\n\u001b[1;32m   1221\u001b[0m                 \u001b[0mself\u001b[0m\u001b[0;34m.\u001b[0m\u001b[0mlog\u001b[0m\u001b[0;34m.\u001b[0m\u001b[0mwarning\u001b[0m\u001b[0;34m(\u001b[0m\u001b[0;34m\"Invalid Message:\"\u001b[0m\u001b[0;34m,\u001b[0m \u001b[0mexc_info\u001b[0m\u001b[0;34m=\u001b[0m\u001b[0;32mTrue\u001b[0m\u001b[0;34m)\u001b[0m\u001b[0;34m\u001b[0m\u001b[0;34m\u001b[0m\u001b[0m\n",
            "\u001b[0;31mKeyboardInterrupt\u001b[0m: Interrupted by user"
          ]
        }
      ]
    },
    {
      "cell_type": "markdown",
      "source": [
        "### Musterlösung Mastermind komplett"
      ],
      "metadata": {
        "id": "vLPDboIhqf0E"
      }
    },
    {
      "cell_type": "code",
      "source": [],
      "metadata": {
        "colab": {
          "base_uri": "https://localhost:8080/",
          "height": 373
        },
        "id": "86ZJ56jnrMK5",
        "outputId": "f8e4ae19-ddf2-40be-cb64-133d472a99d7"
      },
      "execution_count": null,
      "outputs": [
        {
          "output_type": "stream",
          "name": "stdout",
          "text": [
            "~CHEAT~ ['5', '6', '2', '7']\n"
          ]
        },
        {
          "output_type": "error",
          "ename": "KeyboardInterrupt",
          "evalue": "Interrupted by user",
          "traceback": [
            "\u001b[0;31m---------------------------------------------------------------------------\u001b[0m",
            "\u001b[0;31mKeyboardInterrupt\u001b[0m                         Traceback (most recent call last)",
            "\u001b[0;32m/tmp/ipython-input-3516833817.py\u001b[0m in \u001b[0;36m<cell line: 0>\u001b[0;34m()\u001b[0m\n\u001b[1;32m     48\u001b[0m \u001b[0;34m\u001b[0m\u001b[0m\n\u001b[1;32m     49\u001b[0m \u001b[0;32mwhile\u001b[0m \u001b[0mnicht_gewonnen\u001b[0m\u001b[0;34m:\u001b[0m\u001b[0;34m\u001b[0m\u001b[0;34m\u001b[0m\u001b[0m\n\u001b[0;32m---> 50\u001b[0;31m     \u001b[0meingabe\u001b[0m \u001b[0;34m=\u001b[0m \u001b[0minput\u001b[0m\u001b[0;34m(\u001b[0m\u001b[0;34m\"Lösungsvorschlag: \"\u001b[0m\u001b[0;34m)\u001b[0m\u001b[0;34m\u001b[0m\u001b[0;34m\u001b[0m\u001b[0m\n\u001b[0m\u001b[1;32m     51\u001b[0m     \u001b[0mfarbe_enthalten\u001b[0m\u001b[0;34m,\u001b[0m \u001b[0mrichtig\u001b[0m \u001b[0;34m=\u001b[0m \u001b[0mcheck\u001b[0m\u001b[0;34m(\u001b[0m\u001b[0mloesung\u001b[0m\u001b[0;34m,\u001b[0m \u001b[0meingabe\u001b[0m\u001b[0;34m)\u001b[0m\u001b[0;34m\u001b[0m\u001b[0;34m\u001b[0m\u001b[0m\n\u001b[1;32m     52\u001b[0m \u001b[0;34m\u001b[0m\u001b[0m\n",
            "\u001b[0;32m/usr/local/lib/python3.12/dist-packages/ipykernel/kernelbase.py\u001b[0m in \u001b[0;36mraw_input\u001b[0;34m(self, prompt)\u001b[0m\n\u001b[1;32m   1175\u001b[0m                 \u001b[0;34m\"raw_input was called, but this frontend does not support input requests.\"\u001b[0m\u001b[0;34m\u001b[0m\u001b[0;34m\u001b[0m\u001b[0m\n\u001b[1;32m   1176\u001b[0m             )\n\u001b[0;32m-> 1177\u001b[0;31m         return self._input_request(\n\u001b[0m\u001b[1;32m   1178\u001b[0m             \u001b[0mstr\u001b[0m\u001b[0;34m(\u001b[0m\u001b[0mprompt\u001b[0m\u001b[0;34m)\u001b[0m\u001b[0;34m,\u001b[0m\u001b[0;34m\u001b[0m\u001b[0;34m\u001b[0m\u001b[0m\n\u001b[1;32m   1179\u001b[0m             \u001b[0mself\u001b[0m\u001b[0;34m.\u001b[0m\u001b[0m_parent_ident\u001b[0m\u001b[0;34m[\u001b[0m\u001b[0;34m\"shell\"\u001b[0m\u001b[0;34m]\u001b[0m\u001b[0;34m,\u001b[0m\u001b[0;34m\u001b[0m\u001b[0;34m\u001b[0m\u001b[0m\n",
            "\u001b[0;32m/usr/local/lib/python3.12/dist-packages/ipykernel/kernelbase.py\u001b[0m in \u001b[0;36m_input_request\u001b[0;34m(self, prompt, ident, parent, password)\u001b[0m\n\u001b[1;32m   1217\u001b[0m             \u001b[0;32mexcept\u001b[0m \u001b[0mKeyboardInterrupt\u001b[0m\u001b[0;34m:\u001b[0m\u001b[0;34m\u001b[0m\u001b[0;34m\u001b[0m\u001b[0m\n\u001b[1;32m   1218\u001b[0m                 \u001b[0;31m# re-raise KeyboardInterrupt, to truncate traceback\u001b[0m\u001b[0;34m\u001b[0m\u001b[0;34m\u001b[0m\u001b[0m\n\u001b[0;32m-> 1219\u001b[0;31m                 \u001b[0;32mraise\u001b[0m \u001b[0mKeyboardInterrupt\u001b[0m\u001b[0;34m(\u001b[0m\u001b[0;34m\"Interrupted by user\"\u001b[0m\u001b[0;34m)\u001b[0m \u001b[0;32mfrom\u001b[0m \u001b[0;32mNone\u001b[0m\u001b[0;34m\u001b[0m\u001b[0;34m\u001b[0m\u001b[0m\n\u001b[0m\u001b[1;32m   1220\u001b[0m             \u001b[0;32mexcept\u001b[0m \u001b[0mException\u001b[0m\u001b[0;34m:\u001b[0m\u001b[0;34m\u001b[0m\u001b[0;34m\u001b[0m\u001b[0m\n\u001b[1;32m   1221\u001b[0m                 \u001b[0mself\u001b[0m\u001b[0;34m.\u001b[0m\u001b[0mlog\u001b[0m\u001b[0;34m.\u001b[0m\u001b[0mwarning\u001b[0m\u001b[0;34m(\u001b[0m\u001b[0;34m\"Invalid Message:\"\u001b[0m\u001b[0;34m,\u001b[0m \u001b[0mexc_info\u001b[0m\u001b[0;34m=\u001b[0m\u001b[0;32mTrue\u001b[0m\u001b[0;34m)\u001b[0m\u001b[0;34m\u001b[0m\u001b[0;34m\u001b[0m\u001b[0m\n",
            "\u001b[0;31mKeyboardInterrupt\u001b[0m: Interrupted by user"
          ]
        }
      ]
    },
    {
      "cell_type": "code",
      "source": [
        "import random\n",
        "import math\n",
        "\n",
        "# erweiterte Farbliste auf 20 Farb+Formkombinationen\n",
        "farbliste = [0,1,2,3,4,5,6,7,8,9,10,11,12,13,14,15,16,17,18,19,20]\n",
        "\n",
        "# Lösung aus Auswahl aus Farbliste\n",
        "def generiere_loesung(laenge, farbliste):\n",
        "    return [random.choice(farbliste) for i in range(laenge)]\n",
        "    ''' leichtere Alternative für die Zeile hierüber:\n",
        "    auswahl= []\n",
        "    for i in range(laenge):\n",
        "        farbe= random.choice(farbliste)\n",
        "        auswahl.append(farbe)\n",
        "    return auswahl\n",
        "    '''\n",
        "\n",
        "# Checkfunktion liefert \"Error\", \"Sieg\" oder #Enthaltene/#Richtige\n",
        "def check(loesung, eingabe):\n",
        "    # ungleiche Länge ist 'Error'\n",
        "    if len(loesung) != len(eingabe):\n",
        "        return(\"Error\",\"Error\")\n",
        "    else:\n",
        "        farbe_enthalten, richtig = 0, 0\n",
        "\n",
        "    # erweitere Prüfung\n",
        "    for zahl in eingabe:\n",
        "        if zahl not in farbliste[:anzahl_kugeln]:\n",
        "            return(\"Error\",\"Error\")\n",
        "\n",
        "    # für mögliche Kugel\n",
        "    for zahl in farbliste:\n",
        "        # falls sie in beiden enthalten ist\n",
        "        if zahl in loesung and zahl in eingabe:\n",
        "            # erhöhe 'enthalten' um das Minumum beider Anzahlen (in Lsg und Eingabe)\n",
        "            farbe_enthalten += min(loesung.count(zahl), eingabe.count(zahl))\n",
        "\n",
        "    # für jede Zahl der Eingabe\n",
        "    for i in range(len(eingabe)):\n",
        "        # falls Position und Farbe übereinstimmen, erhöhe 'richtig' um 1\n",
        "        if int(eingabe[i]) == int(loesung[i]):\n",
        "            # erhöhe 'richtig' und dekrementiere 'enthalten'\n",
        "            richtig += 1\n",
        "            farbe_enthalten -= 1\n",
        "\n",
        "    # alle richtig: gewonnen\n",
        "    if richtig == len(eingabe):\n",
        "        return(\"Sieg\", \"Sieg\")\n",
        "    else:\n",
        "        return (farbe_enthalten, richtig)\n",
        "\n",
        "\n",
        "\n",
        "# Farben und Formen     + Start\n",
        "formen = [\"●\", \"○\", \"◉\", \"⬤\"]\n",
        "farben = [\"\\033[0m \", \"\\033[92m \", \"\\033[38;5;208m \", \"\\033[95m \", \"\\033[94m \"]\n",
        "zahlen = [0,1,2,3,4,5,6,7,8,9,\"AA\",\"B\",\"CC\",\"D\",\"EE\",\"FF\",\"G\",\"HH\",\"I\",\"JJ\"]\n",
        "\n",
        "\n",
        "anzahl_kugeln = int(input(\"Wähle unterschiedliche Kugelanzahl. \\n(Standard=8, max 20): \"))\n",
        "anzahl_leben = int(input(\"Wähle Anzahl an Leben. \\n(Standard bei Acht Kugeln: 12): \"))\n",
        "anzahl_raten = int(input(\"Wähle Anzahl an zu erratenden Farben. \\n(Standard: 4): \"))\n",
        "\n",
        "kugel_arten = []\n",
        "kugel_uebersicht = []\n",
        "counter = 0\n",
        "for form in formen:\n",
        "    for farbe in farben:\n",
        "        if counter < anzahl_kugeln:\n",
        "            # kombiniere Farbe und Form   + setzte Farbe danach wieder auf Schwarz\n",
        "            kugel_arten.append(farbe + form + \"\\033[0m\")\n",
        "            kugel_uebersicht.append(str(counter)+farbe + form + \"\\033[0m \")\n",
        "            counter += 1\n",
        "\n",
        "zahlenliste = \"               \"\n",
        "for i in range(anzahl_kugeln):\n",
        "    zahlenliste += str(zahlen[i]) + \" \"\n",
        "\n",
        "print(\"deine Kugeln:\", \"\".join(kugel_arten))\n",
        "print(zahlenliste)\n",
        "\n",
        "# Hauptspiel\n",
        "\n",
        "# aus REDUZIERTER Farbliste Lösung generieren\n",
        "loesung = generiere_loesung(anzahl_raten, farbliste[:anzahl_kugeln])\n",
        "nicht_gewonnen = True\n",
        "\n",
        "#cheat:\n",
        "print(\"~CHEAT~\", loesung)\n",
        "\n",
        "while nicht_gewonnen and anzahl_leben>0:\n",
        "\n",
        "    eingabe_pur = input(f\"| Leben: {anzahl_leben} | neuer Vorschlag: \")\n",
        "        #input in Liste von Integers wandeln\n",
        "    eingabe = []\n",
        "    for zeichen in eingabe_pur:\n",
        "        eingabe.append(int(zeichen))\n",
        "\n",
        "    #Ausführen von Check\n",
        "    farbe_enthalten, richtig = check(loesung, eingabe)\n",
        "\n",
        "    #Auswerten von Check\n",
        "    if farbe_enthalten == \"Error\":\n",
        "        print(\"Deine Eingabe war ungültig.\")\n",
        "    elif farbe_enthalten == \"Sieg\":\n",
        "        nicht_gewonnen = False\n",
        "    else:\n",
        "        anzahl_leben -= 1\n",
        "        print(\"enthalten:\", farbe_enthalten, \"   richtig:\", richtig, end=\"\")\n",
        "\n",
        "if anzahl_leben==0:\n",
        "    print(\"Leider alle Leben verloren - versuch's nochmal :-)\")\n",
        "else:\n",
        "    print(\"Du hast in nur\", zeit, \"gewonnen! 💪🥳🍀😍\")"
      ],
      "metadata": {
        "colab": {
          "base_uri": "https://localhost:8080/",
          "height": 547
        },
        "id": "9h4J-Hke4d69",
        "outputId": "4b3c09c8-ea85-4a80-e931-da98054395cc"
      },
      "execution_count": null,
      "outputs": [
        {
          "output_type": "stream",
          "name": "stdout",
          "text": [
            "Wähle unterschiedliche Kugelanzahl. \n",
            "(Standard=8, max 20): 8\n",
            "Wähle Anzahl an Leben. \n",
            "(Standard bei Acht Kugeln: 12): 12\n",
            "Wähle Anzahl an zu erratenden Farben. \n",
            "(Standard: 4): 4\n",
            "deine Kugeln: \u001b[0m ●\u001b[0m\u001b[92m ●\u001b[0m\u001b[38;5;208m ●\u001b[0m\u001b[95m ●\u001b[0m\u001b[94m ●\u001b[0m\u001b[0m ○\u001b[0m\u001b[92m ○\u001b[0m\u001b[38;5;208m ○\u001b[0m\n",
            "               0 1 2 3 4 5 6 7 \n",
            "~CHEAT~ [3, 7, 0, 5]\n",
            "| Leben: 12 | neuer Vorschlag: 8888\n",
            "Deine Eingabe war ungültig.\n"
          ]
        },
        {
          "output_type": "error",
          "ename": "KeyboardInterrupt",
          "evalue": "Interrupted by user",
          "traceback": [
            "\u001b[0;31m---------------------------------------------------------------------------\u001b[0m",
            "\u001b[0;31mKeyboardInterrupt\u001b[0m                         Traceback (most recent call last)",
            "\u001b[0;32m/tmp/ipython-input-3288229666.py\u001b[0m in \u001b[0;36m<cell line: 0>\u001b[0;34m()\u001b[0m\n\u001b[1;32m     91\u001b[0m \u001b[0;32mwhile\u001b[0m \u001b[0mnicht_gewonnen\u001b[0m \u001b[0;32mand\u001b[0m \u001b[0manzahl_leben\u001b[0m\u001b[0;34m>\u001b[0m\u001b[0;36m0\u001b[0m\u001b[0;34m:\u001b[0m\u001b[0;34m\u001b[0m\u001b[0;34m\u001b[0m\u001b[0m\n\u001b[1;32m     92\u001b[0m \u001b[0;34m\u001b[0m\u001b[0m\n\u001b[0;32m---> 93\u001b[0;31m     \u001b[0meingabe_pur\u001b[0m \u001b[0;34m=\u001b[0m \u001b[0minput\u001b[0m\u001b[0;34m(\u001b[0m\u001b[0;34mf\"| Leben: {anzahl_leben} | neuer Vorschlag: \"\u001b[0m\u001b[0;34m)\u001b[0m\u001b[0;34m\u001b[0m\u001b[0;34m\u001b[0m\u001b[0m\n\u001b[0m\u001b[1;32m     94\u001b[0m         \u001b[0;31m#input in Liste von Integers wandeln\u001b[0m\u001b[0;34m\u001b[0m\u001b[0;34m\u001b[0m\u001b[0m\n\u001b[1;32m     95\u001b[0m     \u001b[0meingabe\u001b[0m \u001b[0;34m=\u001b[0m \u001b[0;34m[\u001b[0m\u001b[0;34m]\u001b[0m\u001b[0;34m\u001b[0m\u001b[0;34m\u001b[0m\u001b[0m\n",
            "\u001b[0;32m/usr/local/lib/python3.12/dist-packages/ipykernel/kernelbase.py\u001b[0m in \u001b[0;36mraw_input\u001b[0;34m(self, prompt)\u001b[0m\n\u001b[1;32m   1175\u001b[0m                 \u001b[0;34m\"raw_input was called, but this frontend does not support input requests.\"\u001b[0m\u001b[0;34m\u001b[0m\u001b[0;34m\u001b[0m\u001b[0m\n\u001b[1;32m   1176\u001b[0m             )\n\u001b[0;32m-> 1177\u001b[0;31m         return self._input_request(\n\u001b[0m\u001b[1;32m   1178\u001b[0m             \u001b[0mstr\u001b[0m\u001b[0;34m(\u001b[0m\u001b[0mprompt\u001b[0m\u001b[0;34m)\u001b[0m\u001b[0;34m,\u001b[0m\u001b[0;34m\u001b[0m\u001b[0;34m\u001b[0m\u001b[0m\n\u001b[1;32m   1179\u001b[0m             \u001b[0mself\u001b[0m\u001b[0;34m.\u001b[0m\u001b[0m_parent_ident\u001b[0m\u001b[0;34m[\u001b[0m\u001b[0;34m\"shell\"\u001b[0m\u001b[0;34m]\u001b[0m\u001b[0;34m,\u001b[0m\u001b[0;34m\u001b[0m\u001b[0;34m\u001b[0m\u001b[0m\n",
            "\u001b[0;32m/usr/local/lib/python3.12/dist-packages/ipykernel/kernelbase.py\u001b[0m in \u001b[0;36m_input_request\u001b[0;34m(self, prompt, ident, parent, password)\u001b[0m\n\u001b[1;32m   1217\u001b[0m             \u001b[0;32mexcept\u001b[0m \u001b[0mKeyboardInterrupt\u001b[0m\u001b[0;34m:\u001b[0m\u001b[0;34m\u001b[0m\u001b[0;34m\u001b[0m\u001b[0m\n\u001b[1;32m   1218\u001b[0m                 \u001b[0;31m# re-raise KeyboardInterrupt, to truncate traceback\u001b[0m\u001b[0;34m\u001b[0m\u001b[0;34m\u001b[0m\u001b[0m\n\u001b[0;32m-> 1219\u001b[0;31m                 \u001b[0;32mraise\u001b[0m \u001b[0mKeyboardInterrupt\u001b[0m\u001b[0;34m(\u001b[0m\u001b[0;34m\"Interrupted by user\"\u001b[0m\u001b[0;34m)\u001b[0m \u001b[0;32mfrom\u001b[0m \u001b[0;32mNone\u001b[0m\u001b[0;34m\u001b[0m\u001b[0;34m\u001b[0m\u001b[0m\n\u001b[0m\u001b[1;32m   1220\u001b[0m             \u001b[0;32mexcept\u001b[0m \u001b[0mException\u001b[0m\u001b[0;34m:\u001b[0m\u001b[0;34m\u001b[0m\u001b[0;34m\u001b[0m\u001b[0m\n\u001b[1;32m   1221\u001b[0m                 \u001b[0mself\u001b[0m\u001b[0;34m.\u001b[0m\u001b[0mlog\u001b[0m\u001b[0;34m.\u001b[0m\u001b[0mwarning\u001b[0m\u001b[0;34m(\u001b[0m\u001b[0;34m\"Invalid Message:\"\u001b[0m\u001b[0;34m,\u001b[0m \u001b[0mexc_info\u001b[0m\u001b[0;34m=\u001b[0m\u001b[0;32mTrue\u001b[0m\u001b[0;34m)\u001b[0m\u001b[0;34m\u001b[0m\u001b[0;34m\u001b[0m\u001b[0m\n",
            "\u001b[0;31mKeyboardInterrupt\u001b[0m: Interrupted by user"
          ]
        }
      ]
    },
    {
      "cell_type": "code",
      "source": [
        "farbliste = [0,1,2,3,4,5,6,7,8,9,10,11,12,13,14,15,16,17,18,19,20][:5]\n",
        "print(farbliste)\n",
        "\n"
      ],
      "metadata": {
        "colab": {
          "base_uri": "https://localhost:8080/"
        },
        "id": "GxVNoCcQtIGX",
        "outputId": "f89e52bd-09f0-4695-ca49-8f035d08801c"
      },
      "execution_count": null,
      "outputs": [
        {
          "output_type": "stream",
          "name": "stdout",
          "text": [
            "[0, 1, 2, 3, 4]\n"
          ]
        }
      ]
    }
  ]
}